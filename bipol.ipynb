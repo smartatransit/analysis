{
 "cells": [
  {
   "cell_type": "code",
   "execution_count": 131,
   "metadata": {
    "autoscroll": false,
    "collapsed": false,
    "ein.hycell": false,
    "ein.tags": "worksheet-0",
    "slideshow": {
     "slide_type": "-"
    }
   },
   "outputs": [],
   "source": [
    "import pandas as pd\n",
    "import glob\n",
    "import matplotlib\n",
    "import matplotlib.pyplot as plt\n",
    "from datetime import datetime\n",
    "import matplotlib.dates as mdates\n",
    "%matplotlib inline\n"
   ]
  },
  {
   "cell_type": "code",
   "execution_count": 124,
   "metadata": {
    "autoscroll": false,
    "collapsed": false,
    "ein.hycell": false,
    "ein.tags": "worksheet-0",
    "slideshow": {
     "slide_type": "-"
    }
   },
   "outputs": [],
   "source": [
    "# load files\n",
    "filenames = glob.glob(\"./TrainData/6/*\")\n",
    "files = [pd.read_json(filename) for filename in filenames]\n",
    "static = pd.read_csv('./TrainData/static/north_ave_red_n.csv')\n",
    "# create dataset from files\n",
    "dataset = pd.concat(files)\n",
    "#print(static)\n"
   ]
  },
  {
   "cell_type": "code",
   "execution_count": 174,
   "metadata": {
    "autoscroll": false,
    "collapsed": false,
    "ein.hycell": false,
    "ein.tags": "worksheet-0",
    "slideshow": {
     "slide_type": "-"
    }
   },
   "outputs": [
    {
     "data": {
      "image/png": "[encoded data removed]",
      "text/plain": [
       "<Figure size 432x288 with 1 Axes>"
      ]
     },
     "metadata": {},
     "output_type": "display_data"
    }
   ],
   "source": [
    "subset = dataset[(dataset.WAITING_TIME == \"Boarding\") & (dataset.STATION == \"NORTH AVE STATION\")]\n",
    "north_ave = subset[subset.DESTINATION == \"North Springs\"].sort_values(\"EVENT_TIME\")\n",
    "schedule = pd.to_datetime(static['Schedule'])\n",
    "#print(north_ave[\"EVENT_TIME\"])\n",
    "schedule.index = schedule\n",
    "sub_schedule = schedule.between_time(\"17:50\", \"18:50\")\n",
    "#plt.plot(schedule, north_ave.EVENT_TIME)\n",
    "#plt.scatter(schedule.dt.time, schedule.dt.time)\n",
    "fig, ax = plt.subplots()\n",
    "minutes = mdates.MinuteLocator(interval = 5)\n",
    "h_fmt = mdates.DateFormatter('%H:%M:%S')\n",
    "ax.plot(sub_schedule, sub_schedule, \"bo\")\n",
    "ax.plot(north_ave[\"EVENT_TIME\"], north_ave[\"EVENT_TIME\"], \"rx\")\n",
    "ax.xaxis.set_major_locator(minutes)\n",
    "ax.xaxis.set_major_formatter(h_fmt)\n",
    "fig.autofmt_xdate()\n",
    "plt.show()\n",
    "#plt.plot(north_ave[\"EVENT_TIME\"], 'bo')\n",
    "#plt.plot(schedule)\n",
    "#plt.scatter(schedule, north_ave[\"EVENT_TIME\"])\n"
   ]
  }
 ],
 "metadata": {
  "kernelspec": {
   "argv": [
    "python",
    "-m",
    "ipykernel_launcher",
    "-f",
    "{connection_file}"
   ],
   "display_name": "Python 3",
   "env": null,
   "interrupt_mode": "signal",
   "language": "python",
   "metadata": null,
   "name": "python3"
  },
  "language_info": {
   "codemirror_mode": {
    "name": "ipython",
    "version": 3
   },
   "file_extension": ".py",
   "mimetype": "text/x-python",
   "name": "python",
   "nbconvert_exporter": "python",
   "pygments_lexer": "ipython3",
   "version": "3.7.3"
  },
  "name": "bipol.ipynb"
 },
 "nbformat": 4,
 "nbformat_minor": 2
}
